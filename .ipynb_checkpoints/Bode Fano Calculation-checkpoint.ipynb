{
 "cells": [
  {
   "cell_type": "markdown",
   "id": "7c4f65bd",
   "metadata": {},
   "source": [
    "### Axion Receiver Chain: Beyond the Bode Fano Bound\n",
    "\n",
    "The load and equivalent circuit representation of a basic resonant lumped element search can be phrased in terms of a classical Bode-Fano problem:\n",
    "\n",
    "**Theorem:** The maximum power extracted in a classical matching network between a real impedance source and a complex impedance load is bounded by the Bode-Fano integral. \n",
    "\n",
    "In the context of the below representation of a DMRadio-style resonant search, given a fixed voltage, resistance, and $L_p$ (i.e. a fixed axion source with a complex impedance), this is equivalent to maximizing the power delivered to the load (i.e. the power across $R_L$).\n",
    "\n",
    "<img src=\"images/axion_load_model.png\" alt=\"Axion receiver model\" width=\"300\"/>\n",
    "\n",
    "Now, there are several important deviations from the classically defined Bode-Fano limits: for one, Bode-Fano developed their equations by matching a real source impedance to a complex load. This is not identical to the DMRadio situation, where we prefer to frame the source as having a reactive component due to our inductive pickup. \n",
    "\n",
    "As such, we must first derive limits to the Bode-Fano integral in the *dual representation*. "
   ]
  },
  {
   "cell_type": "markdown",
   "id": "2a5b0dac",
   "metadata": {},
   "source": [
    "#### Derivation of the Bode-Fano Bound \n",
    "\n",
    "Let us consider the axion receiver model defined above. A reasonable figure of merit is the ratio of actual load power $P_L$ divided by the maximum power delivered by the axion, $P_a$. A convenient metric is then the *reflection coefficient* of rejected power: \n",
    "\n",
    "$$ |\\rho|^2 = 1 - \\dfrac{P_L}{P_a} $$\n",
    "\n",
    "This can also be defined as \n",
    "\n",
    "$$\\rho = \\dfrac{Z - 1}{Z + 1}$$ \n",
    "\n",
    "where Z is the impedance *as seen by the axion*. In other words, this reflection coefficient considers the effect of screening current within the axion pickup loop. \n",
    "\n",
    "The Bode-Fano problem can be stated as follows: Can we design a matching network where the input reflection coefficient, $\\rho$ is smaller than or equal to a specified $\\rho_{max}$ across a frequency band?"
   ]
  },
  {
   "cell_type": "markdown",
   "id": "61a3c1e9",
   "metadata": {},
   "source": [
    "## Numerical Demonstration of the Bode Fano bound\n",
    "\n",
    "Let us start with a numerical demonstration of the Bode-Fano bound for a simple LC matching network. This is a well-solved matching archiecture, better known as an *L-network*.\n",
    "\n",
    "<img src=\"images/LC.png\" alt=\"Axion receiver model\" width=\"150\"/>\n",
    "\n",
    "We start by calculating $Z_{in}$, the input impedance at the input port:\n",
    "\n",
    "$$ Z_{in} = j\\omega L + \\dfrac{1}{\\frac{1}{R_L} - j\\omega C} = j\\omega L + \\dfrac{R_L}{1 - j\\omega C R_L} $$ \\\n",
    "$$ Z_{in} = j\\omega L + \\dfrac{R_L(1+j\\omega C R_L)}{1+\\omega^2 C^2 R_L^2} = \\dfrac{R_L}{1+\\omega^2 C^2 R_L^2} + j\\left(\\omega L - \\dfrac{\\omega C R_L^2}{1+\\omega^2 C^2 R_L^2}\\right) $$\n",
    "\n",
    "For an optimal match, we want to match $R_s = R_L$ and cancel the reactive components of the above expression. This creates two constraints:\n",
    "\n",
    "$$ R_s = \\dfrac{R_L}{1+\\omega^2 C^2 R_L^2}$$\n",
    "\n",
    "and \n",
    "\n",
    "$$ \\omega L - \\dfrac{\\omega C R_L^2}{1+\\omega^2 C^2 R_L^2} = 0$$"
   ]
  },
  {
   "cell_type": "markdown",
   "id": "935ff713",
   "metadata": {},
   "source": [
    "Now, let us ask ourselves the question: for a given $R_S$, $R_L$ at a fixed frequency $\\omega$, what does this constrain the values of $L$ and $C$ to be?"
   ]
  },
  {
   "cell_type": "code",
   "execution_count": 1,
   "id": "72763581",
   "metadata": {
    "ExecuteTime": {
     "end_time": "2025-07-28T22:24:08.533311Z",
     "start_time": "2025-07-28T22:24:07.852441Z"
    }
   },
   "outputs": [],
   "source": [
    "import sys\n",
    "import pandas as pd\n",
    "import matplotlib.pyplot as plt\n",
    "import numpy as np\n",
    "import logging, importlib\n",
    "\n",
    "logging.basicConfig(level=logging.WARNING)"
   ]
  },
  {
   "cell_type": "code",
   "execution_count": 2,
   "id": "e06bb7fd",
   "metadata": {
    "ExecuteTime": {
     "end_time": "2025-07-28T22:24:08.538590Z",
     "start_time": "2025-07-28T22:24:08.533727Z"
    }
   },
   "outputs": [],
   "source": [
    "### Plug in values\n",
    "Rs = 100 \n",
    "Rl = 1700\n",
    "omega = 2 * np.pi * 9 * 10**8 #MHz"
   ]
  },
  {
   "cell_type": "code",
   "execution_count": 3,
   "id": "a9d36a7a",
   "metadata": {
    "ExecuteTime": {
     "end_time": "2025-07-28T22:24:08.538858Z",
     "start_time": "2025-07-28T22:24:08.536547Z"
    }
   },
   "outputs": [
    {
     "name": "stdout",
     "output_type": "stream",
     "text": [
      "Matched capacitor: 4.1609135448861524e-13\n",
      "Matched inductor: 7.073553026306459e-08\n"
     ]
    }
   ],
   "source": [
    "C = 1/(omega * Rl) * np.sqrt(Rl/Rs - 1)\n",
    "print(f'Matched capacitor: {C}')\n",
    "\n",
    "L = C * Rl**2 * (Rs/Rl)\n",
    "print(f'Matched inductor: {L}')"
   ]
  },
  {
   "cell_type": "markdown",
   "id": "b77e6d4538332f17",
   "metadata": {},
   "source": [
    "## Validating via SPICE Simulation"
   ]
  },
  {
   "cell_type": "code",
   "execution_count": 4,
   "id": "5f814782",
   "metadata": {
    "ExecuteTime": {
     "end_time": "2025-07-28T22:24:08.880759Z",
     "start_time": "2025-07-28T22:24:08.538532Z"
    }
   },
   "outputs": [],
   "source": [
    "from pyWRspice import simulation\n",
    "engine = simulation.WRWrapper(command = \"/usr/local/xictools/bin/wrspice\") # Typical for Unix"
   ]
  },
  {
   "cell_type": "code",
   "execution_count": 5,
   "id": "2fd5c030c2d6a430",
   "metadata": {
    "ExecuteTime": {
     "end_time": "2025-07-28T22:24:08.966820Z",
     "start_time": "2025-07-28T22:24:08.882302Z"
    }
   },
   "outputs": [
    {
     "name": "stdout",
     "output_type": "stream",
     "text": [
      "RMS power in Rs: 0.12436181517940731\n",
      "RMS power in Rl: 0.12436181517940731\n",
      "RMS power pulled from voltage source: 0.24872363035881462\n",
      "RMS power pulled from voltage source: 0.2487236303588147\n"
     ]
    }
   ],
   "source": [
    "resistance = \"\"\"* LC \n",
    "\n",
    "v1 0 1 AC 10 SIN(0 10 900e6)\n",
    "\n",
    "r1 1 2 100    \n",
    "r2 2 0 100\n",
    "\n",
    ".tran {tran_step} {tran_stop} {tran_start} uic \n",
    ".control\n",
    "set maxdata={maxdata}\n",
    "run\n",
    "set filetype=binary\n",
    "write {output_file} v(1)-v(0) i(v1) v(1)-v(2) v(2)-v(0) \n",
    ".endc\n",
    "\"\"\"\n",
    "\n",
    "params = {'tran_step': 1e-10, 'tran_stop': 1e-8, 'tran_start': 3e-9, 'maxdata': 1024000, 'output_file': None} \n",
    "dat = engine.run(resistance, save_file=False, **params)\n",
    "\n",
    "# Extract the data\n",
    "dat = dat.to_array()\n",
    "ts = dat[0]\n",
    "v2 = dat[1]\n",
    "v3 = dat[3]\n",
    "v4 = dat[4] \n",
    "v5 = dat[2] \n",
    "\n",
    "print(f'RMS power in Rs: {np.average((v3**2/100))}')\n",
    "print(f'RMS power in Rl: {np.average((v4**2/100))}')\n",
    "\n",
    "print(f'RMS power pulled from voltage source: {np.average(v5 * v2)}')\n",
    "print(f'RMS power pulled from voltage source: {np.average(v2**2*200)}')"
   ]
  },
  {
   "cell_type": "code",
   "execution_count": 6,
   "id": "35c6a2586377cbfc",
   "metadata": {
    "ExecuteTime": {
     "end_time": "2025-07-28T22:24:09.017679Z",
     "start_time": "2025-07-28T22:24:08.965502Z"
    }
   },
   "outputs": [
    {
     "name": "stdout",
     "output_type": "stream",
     "text": [
      "RMS power in Rs: 0.001535331051597613\n",
      "RMS power in Rl: 0.02610062787715956\n",
      "RMS power pulled from voltage source: 0.0276359589287571\n"
     ]
    }
   ],
   "source": [
    "resistance = \"\"\"* LC \n",
    "\n",
    "v1 0 1 AC 10 SIN(0 10 900e6)\n",
    "\n",
    "r1 1 2 100    \n",
    "r2 2 0 1700\n",
    "\n",
    ".tran {tran_step} {tran_stop} {tran_start} uic \n",
    ".control\n",
    "set maxdata={maxdata}\n",
    "run\n",
    "set filetype=binary\n",
    "write {output_file} v(1)-v(0) i(v1) v(1)-v(2) v(2)-v(0) \n",
    ".endc\n",
    "\"\"\"\n",
    "\n",
    "params = {'tran_step': 1e-10, 'tran_stop': 1e-8, 'tran_start': 3e-9, 'maxdata': 1024000, 'output_file': None} \n",
    "dat = engine.run(resistance, save_file=False, **params)\n",
    "\n",
    "# Extract the data\n",
    "dat = dat.to_array()\n",
    "ts = dat[0]\n",
    "v2 = dat[1]\n",
    "v3 = dat[3]\n",
    "v4 = dat[4] \n",
    "v5 = dat[2] \n",
    "\n",
    "print(f'RMS power in Rs: {np.average((v3**2/100))}')\n",
    "print(f'RMS power in Rl: {np.average((v4**2/1700))}')\n",
    "\n",
    "print(f'RMS power pulled from voltage source: {np.average(v5 * v2)}')"
   ]
  },
  {
   "cell_type": "markdown",
   "id": "ea2a42e7155e210e",
   "metadata": {},
   "source": [
    "### Notice that when Rs and Rl are not matched, we see that the total power drawn from the circuit is smaller (and so is the power dissipated in the load)"
   ]
  },
  {
   "cell_type": "code",
   "execution_count": 7,
   "id": "14bf86d9",
   "metadata": {
    "ExecuteTime": {
     "end_time": "2025-07-28T22:24:09.134592Z",
     "start_time": "2025-07-28T22:24:09.075680Z"
    }
   },
   "outputs": [
    {
     "name": "stdout",
     "output_type": "stream",
     "text": [
      "RMS power in Rs: 0.12049789024937836\n",
      "RMS power in Rl: 0.11366476903433201\n",
      "RMS power pulled from voltage source: 0.23547341546638298\n"
     ]
    }
   ],
   "source": [
    "LC = \"\"\"* LC \n",
    "\n",
    "v1 0 1 AC 10 SIN(0 10 {freq})\n",
    "\n",
    "r1 1 2 100  \n",
    "l1 2 3 {l_mag}     \n",
    "c1 3 0 {c_mag}  \n",
    "r2 3 0 1700\n",
    "\n",
    ".tran {tran_step} {tran_stop} {tran_start} uic \n",
    ".control\n",
    "set maxdata={maxdata}\n",
    "run\n",
    "set filetype=binary\n",
    "write {output_file} v(1)-v(0) i(v1) v(1)-v(2) v(3)-v(0) \n",
    ".endc\n",
    "\"\"\"\n",
    "\n",
    "params = {'freq': 900e6, 'l_mag': L, 'c_mag': C, 'tran_step': 1e-10, 'tran_stop': 1e-8, 'tran_start': 3e-9, 'maxdata': 1024000, 'output_file': None} \n",
    "dat = engine.run(LC, save_file=False, **params)\n",
    "\n",
    "# Extract the data\n",
    "dat = dat.to_array()\n",
    "ts = dat[0]\n",
    "v2 = dat[1]\n",
    "v3 = dat[3]\n",
    "v4 = dat[4] \n",
    "v5 = dat[2] \n",
    "\n",
    "print(f'RMS power in Rs: {np.average((v3**2/100))}')\n",
    "print(f'RMS power in Rl: {np.average((v4**2/1700))}')\n",
    "\n",
    "print(f'RMS power pulled from voltage source: {np.average(v5 * v2)}')\n",
    "\n",
    "p_load_flat = np.average((v4**2/1700))\n",
    "p_flat = np.average(v5 * v2)"
   ]
  },
  {
   "cell_type": "code",
   "execution_count": 8,
   "id": "1630c9a0b2a6503c",
   "metadata": {
    "ExecuteTime": {
     "end_time": "2025-07-28T22:24:13.309337Z",
     "start_time": "2025-07-28T22:24:09.242547Z"
    }
   },
   "outputs": [
    {
     "name": "stdout",
     "output_type": "stream",
     "text": [
      "['python', 'data/run_parallel.py', '/var/folders/xj/352c_sbx4t992f2lk29vd9cm0000gn/T/tmp580o37u4/simconfig_20250728_152409.csv', '--processes=5']\n",
      "['simulation.py', 'waveforms.py', '.DS_Store', 'josephson1.jpg', 'remote.py', 'josephson_oscillation.jpg', 'IV_coupled_flux.jpg', '__init__.py', '__pycache__', 'IV.jpg', 'parse.py', 'script.py', 'data', 'proposal_IV_coupled_flux.pdf', 'proposal_IV_coupled_flux.png', 'proposal_IV_coupled_flux.jpg']\n"
     ]
    }
   ],
   "source": [
    "### Run parallel sweep\n",
    "params[\"freq\"] = np.linspace(800e6, 1000e6, 200)\n",
    "params, dat = engine.run_parallel(LC, save_file=False, **params)"
   ]
  },
  {
   "cell_type": "code",
   "execution_count": 9,
   "id": "16b025256df2d401",
   "metadata": {
    "ExecuteTime": {
     "end_time": "2025-07-28T22:24:13.313940Z",
     "start_time": "2025-07-28T22:24:13.307028Z"
    }
   },
   "outputs": [],
   "source": [
    "PL = []\n",
    "Pin = []\n",
    "\n",
    "for d in dat:\n",
    "    d = d.to_array()\n",
    "    ts = d[0]\n",
    "    v2 = d[1]\n",
    "    v3 = d[3]\n",
    "    v4 = d[4] \n",
    "    v5 = d[2] \n",
    "\n",
    "    PL.append(np.average((v4**2/1700)))\n",
    "    Pin.append(np.average(v5 * v2))\n",
    "    \n",
    "PL = np.array(PL)\n",
    "Pin = np.array(Pin)"
   ]
  },
  {
   "cell_type": "code",
   "execution_count": 15,
   "id": "762474f65d0c74ec",
   "metadata": {
    "ExecuteTime": {
     "end_time": "2025-07-28T22:24:53.015198Z",
     "start_time": "2025-07-28T22:24:52.951501Z"
    }
   },
   "outputs": [
    {
     "data": {
      "text/plain": [
       "<matplotlib.legend.Legend at 0x169136490>"
      ]
     },
     "execution_count": 15,
     "metadata": {},
     "output_type": "execute_result"
    },
    {
     "data": {
      "image/png": "[encoded data removed]",
      "text/plain": [
       "<Figure size 400x300 with 1 Axes>"
      ]
     },
     "metadata": {},
     "output_type": "display_data"
    }
   ],
   "source": [
    "plt.figure(figsize=(4,3))\n",
    "\n",
    "plt.title('Power from source')\n",
    "plt.plot(np.linspace(800e6, 1000e6, 200), Pin, label='Resonant match')\n",
    "plt.plot(np.linspace(800e6, 1000e6, 200), [p_flat for i in range(200)], label='Flat bound')\n",
    "\n",
    "plt.legend()"
   ]
  },
  {
   "cell_type": "code",
   "execution_count": 16,
   "id": "dff82c235529add7",
   "metadata": {
    "ExecuteTime": {
     "end_time": "2025-07-28T22:24:53.243070Z",
     "start_time": "2025-07-28T22:24:53.184358Z"
    }
   },
   "outputs": [
    {
     "data": {
      "text/plain": [
       "<matplotlib.legend.Legend at 0x1691c3550>"
      ]
     },
     "execution_count": 16,
     "metadata": {},
     "output_type": "execute_result"
    },
    {
     "data": {
      "image/png": "[encoded data removed]",
      "text/plain": [
       "<Figure size 400x300 with 1 Axes>"
      ]
     },
     "metadata": {},
     "output_type": "display_data"
    }
   ],
   "source": [
    "plt.figure(figsize=(4,3))\n",
    "\n",
    "plt.title('Power on Load')\n",
    "plt.plot(np.linspace(800e6, 1000e6, 200), PL, label='Resonant match')\n",
    "plt.plot(np.linspace(800e6, 1000e6, 200), [p_load_flat for i in range(200)], label='Flat bound')\n",
    "\n",
    "plt.legend()"
   ]
  },
  {
   "cell_type": "code",
   "execution_count": 18,
   "id": "353930c063d002bb",
   "metadata": {
    "ExecuteTime": {
     "end_time": "2025-07-28T22:25:37.788088Z",
     "start_time": "2025-07-28T22:25:37.700181Z"
    }
   },
   "outputs": [
    {
     "data": {
      "text/plain": [
       "<matplotlib.legend.Legend at 0x1692896d0>"
      ]
     },
     "execution_count": 18,
     "metadata": {},
     "output_type": "execute_result"
    },
    {
     "data": {
      "image/png": "[encoded data removed]",
      "text/plain": [
       "<Figure size 400x300 with 1 Axes>"
      ]
     },
     "metadata": {},
     "output_type": "display_data"
    }
   ],
   "source": [
    "plt.figure(figsize=(4,3))\n",
    "\n",
    "plt.title('PL/Pin Ratio')\n",
    "plt.plot(np.linspace(800e6, 1000e6, 200), PL/Pin, label='Resonant match')\n",
    "plt.plot(np.linspace(800e6, 1000e6, 200), [p_load_flat/p_flat for i in range(200)], label='Flat bound')\n",
    "\n",
    "plt.legend()"
   ]
  },
  {
   "cell_type": "code",
   "execution_count": 12,
   "id": "6c5f7033d312a92b",
   "metadata": {
    "ExecuteTime": {
     "end_time": "2025-07-28T22:24:13.549094Z",
     "start_time": "2025-07-28T22:24:13.544647Z"
    }
   },
   "outputs": [],
   "source": [
    "# print(LC.format(**params))"
   ]
  },
  {
   "cell_type": "code",
   "execution_count": 13,
   "id": "5053cb12",
   "metadata": {
    "ExecuteTime": {
     "end_time": "2025-07-28T22:24:13.559497Z",
     "start_time": "2025-07-28T22:24:13.548653Z"
    }
   },
   "outputs": [],
   "source": [
    "### FILL IN WITH CIRCUIT ANALYSIS: SHOW POWER DISSIPATED IN LOAD PEAKS AT RESONANT FREQUENCY\n",
    "\n",
    "#Pout = V**2 / ()"
   ]
  },
  {
   "cell_type": "markdown",
   "id": "717f699a",
   "metadata": {},
   "source": [
    "### Reframing in terms of complex sources \n",
    "\n",
    "There is another way to reframe this question: for a fixed $R_S$, $R_L$, and $L$, what is the optimal choice of C?\n",
    "\n",
    "This is a slightly different way of thinking about this problem: we now suppose that we cannot vary $L$. This is equivalent to saying that we are attempting to match a complex source to a real-valued load. "
   ]
  },
  {
   "cell_type": "markdown",
   "id": "deabcc20",
   "metadata": {},
   "source": [
    "We see that the matching of our network is fixed by the values of Rs and Rl. Now, let us evaluate the *power transfer* for this network to see whether it saturates the Bode-Fano bound. To do so, we consider the ratio of the power dissipated in the load to the total power delivered by the source. \n",
    "\n",
    "$$ P_{TOT} = \\frac{V^2}{Z_{TOT}} $$\n",
    "\n",
    "Now, obviously, we have selected our values of $L$ and $C$ to deliver maximum power on resonance because the network is perfectly impedance matched: $P_{TOT} = \\frac{V^2}{2R_L}$. To look at the power consumed in the load, we do a voltage analysis on the circuit:\n",
    "\n"
   ]
  },
  {
   "cell_type": "code",
   "execution_count": null,
   "id": "7efad9db",
   "metadata": {},
   "outputs": [],
   "source": []
  },
  {
   "cell_type": "markdown",
   "id": "7f6a4291",
   "metadata": {},
   "source": [
    "#### Brief Aside:\n",
    "\n",
    "In the limit where $R_s < R_L$, this can also be identified as a low-pass network. In this limit, we can convert the parallel C and R to series as follows:\n",
    "\n",
    "<img src=\"images/conversion.png\" alt=\"Parallel to series conversion\" width=\"300\"/>\n",
    "\n",
    "We can do this via the method of equalizing $Q$: $Q_{series} = Q_{parallel}$. To calculate the Q-value of the parallel RLC....."
   ]
  },
  {
   "cell_type": "code",
   "execution_count": null,
   "id": "995a3e71",
   "metadata": {},
   "outputs": [],
   "source": []
  },
  {
   "cell_type": "code",
   "execution_count": null,
   "id": "78b77088",
   "metadata": {},
   "outputs": [],
   "source": []
  }
 ],
 "metadata": {
  "kernelspec": {
   "display_name": "Python 3 (ipykernel)",
   "language": "python",
   "name": "python3"
  },
  "language_info": {
   "codemirror_mode": {
    "name": "ipython",
    "version": 3
   },
   "file_extension": ".py",
   "mimetype": "text/x-python",
   "name": "python",
   "nbconvert_exporter": "python",
   "pygments_lexer": "ipython3",
   "version": "3.11.4"
  }
 },
 "nbformat": 4,
 "nbformat_minor": 5
}
